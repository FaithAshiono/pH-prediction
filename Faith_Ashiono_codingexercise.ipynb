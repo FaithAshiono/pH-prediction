{
 "cells": [
  {
   "cell_type": "markdown",
   "metadata": {},
   "source": [
    "### Import Libraries "
   ]
  },
  {
   "cell_type": "code",
   "execution_count": 1,
   "metadata": {},
   "outputs": [],
   "source": [
    "#import libraries\n",
    "import pandas as pd\n",
    "import numpy as np\n",
    "import matplotlib.pyplot as plt\n",
    "import seaborn as sns"
   ]
  },
  {
   "cell_type": "markdown",
   "metadata": {},
   "source": [
    "### Load data "
   ]
  },
  {
   "cell_type": "code",
   "execution_count": 2,
   "metadata": {},
   "outputs": [
    {
     "data": {
      "text/html": [
       "<div>\n",
       "<style scoped>\n",
       "    .dataframe tbody tr th:only-of-type {\n",
       "        vertical-align: middle;\n",
       "    }\n",
       "\n",
       "    .dataframe tbody tr th {\n",
       "        vertical-align: top;\n",
       "    }\n",
       "\n",
       "    .dataframe thead th {\n",
       "        text-align: right;\n",
       "    }\n",
       "</style>\n",
       "<table border=\"1\" class=\"dataframe\">\n",
       "  <thead>\n",
       "    <tr style=\"text-align: right;\">\n",
       "      <th></th>\n",
       "      <th>CHELSA_bio10_01_b1</th>\n",
       "      <th>FAPAR_mean_January</th>\n",
       "      <th>FAPAR_mean_June</th>\n",
       "      <th>precipitation</th>\n",
       "      <th>elevation</th>\n",
       "      <th>landcover_cropland_precentage</th>\n",
       "      <th>landcover_class</th>\n",
       "      <th>landsat8_nir</th>\n",
       "      <th>landsat8_red</th>\n",
       "      <th>landsat8_swir1</th>\n",
       "      <th>landsat8_swir2</th>\n",
       "      <th>pH</th>\n",
       "      <th>sentinel2_band_2</th>\n",
       "      <th>sentinel2_band_4</th>\n",
       "      <th>sentinel2_band_9</th>\n",
       "    </tr>\n",
       "  </thead>\n",
       "  <tbody>\n",
       "    <tr>\n",
       "      <th>0</th>\n",
       "      <td>193</td>\n",
       "      <td>621.600000</td>\n",
       "      <td>628.000000</td>\n",
       "      <td>15008.91667</td>\n",
       "      <td>1681</td>\n",
       "      <td>11</td>\n",
       "      <td>4</td>\n",
       "      <td>65</td>\n",
       "      <td>20</td>\n",
       "      <td>62</td>\n",
       "      <td>39</td>\n",
       "      <td>6.4</td>\n",
       "      <td>28</td>\n",
       "      <td>37</td>\n",
       "      <td>123</td>\n",
       "    </tr>\n",
       "    <tr>\n",
       "      <th>1</th>\n",
       "      <td>173</td>\n",
       "      <td>385.458333</td>\n",
       "      <td>556.000000</td>\n",
       "      <td>15157.66667</td>\n",
       "      <td>2201</td>\n",
       "      <td>52</td>\n",
       "      <td>4</td>\n",
       "      <td>67</td>\n",
       "      <td>45</td>\n",
       "      <td>105</td>\n",
       "      <td>81</td>\n",
       "      <td>6.8</td>\n",
       "      <td>31</td>\n",
       "      <td>45</td>\n",
       "      <td>96</td>\n",
       "    </tr>\n",
       "    <tr>\n",
       "      <th>2</th>\n",
       "      <td>202</td>\n",
       "      <td>401.272727</td>\n",
       "      <td>597.166667</td>\n",
       "      <td>15188.50000</td>\n",
       "      <td>1541</td>\n",
       "      <td>22</td>\n",
       "      <td>4</td>\n",
       "      <td>64</td>\n",
       "      <td>31</td>\n",
       "      <td>82</td>\n",
       "      <td>52</td>\n",
       "      <td>NaN</td>\n",
       "      <td>17</td>\n",
       "      <td>27</td>\n",
       "      <td>146</td>\n",
       "    </tr>\n",
       "    <tr>\n",
       "      <th>3</th>\n",
       "      <td>295</td>\n",
       "      <td>168.326531</td>\n",
       "      <td>212.294118</td>\n",
       "      <td>15771.58333</td>\n",
       "      <td>387</td>\n",
       "      <td>0</td>\n",
       "      <td>3</td>\n",
       "      <td>49</td>\n",
       "      <td>59</td>\n",
       "      <td>72</td>\n",
       "      <td>68</td>\n",
       "      <td>8.1</td>\n",
       "      <td>23</td>\n",
       "      <td>41</td>\n",
       "      <td>10000000000</td>\n",
       "    </tr>\n",
       "  </tbody>\n",
       "</table>\n",
       "</div>"
      ],
      "text/plain": [
       "   CHELSA_bio10_01_b1  FAPAR_mean_January  FAPAR_mean_June  precipitation  \\\n",
       "0                 193          621.600000       628.000000    15008.91667   \n",
       "1                 173          385.458333       556.000000    15157.66667   \n",
       "2                 202          401.272727       597.166667    15188.50000   \n",
       "3                 295          168.326531       212.294118    15771.58333   \n",
       "\n",
       "   elevation  landcover_cropland_precentage  landcover_class  landsat8_nir  \\\n",
       "0       1681                             11                4            65   \n",
       "1       2201                             52                4            67   \n",
       "2       1541                             22                4            64   \n",
       "3        387                              0                3            49   \n",
       "\n",
       "   landsat8_red  landsat8_swir1  landsat8_swir2   pH  sentinel2_band_2  \\\n",
       "0            20              62              39  6.4                28   \n",
       "1            45             105              81  6.8                31   \n",
       "2            31              82              52  NaN                17   \n",
       "3            59              72              68  8.1                23   \n",
       "\n",
       "   sentinel2_band_4  sentinel2_band_9  \n",
       "0                37               123  \n",
       "1                45                96  \n",
       "2                27               146  \n",
       "3                41       10000000000  "
      ]
     },
     "execution_count": 2,
     "metadata": {},
     "output_type": "execute_result"
    }
   ],
   "source": [
    "#load data\n",
    "dataset=pd.read_csv('D:/GIS/ISDA/Data/training_data.csv')\n",
    "dataset.head(4)"
   ]
  },
  {
   "cell_type": "code",
   "execution_count": 3,
   "metadata": {},
   "outputs": [
    {
     "data": {
      "text/plain": [
       "8933"
      ]
     },
     "execution_count": 3,
     "metadata": {},
     "output_type": "execute_result"
    }
   ],
   "source": [
    "len(dataset)"
   ]
  },
  {
   "cell_type": "markdown",
   "metadata": {},
   "source": [
    "### Data cleaning "
   ]
  },
  {
   "cell_type": "code",
   "execution_count": 4,
   "metadata": {},
   "outputs": [],
   "source": [
    "dataset = dataset.dropna()\n"
   ]
  },
  {
   "cell_type": "code",
   "execution_count": 5,
   "metadata": {},
   "outputs": [
    {
     "data": {
      "text/plain": [
       "8932"
      ]
     },
     "execution_count": 5,
     "metadata": {},
     "output_type": "execute_result"
    }
   ],
   "source": [
    "len(dataset)"
   ]
  },
  {
   "cell_type": "code",
   "execution_count": 6,
   "metadata": {
    "scrolled": true
   },
   "outputs": [
    {
     "data": {
      "text/plain": [
       "Index(['CHELSA_bio10_01_b1', 'FAPAR_mean_January', 'FAPAR_mean_June',\n",
       "       'precipitation', 'elevation', 'landcover_cropland_precentage',\n",
       "       'landcover_class', 'landsat8_nir', 'landsat8_red', 'landsat8_swir1',\n",
       "       'landsat8_swir2', 'pH', 'sentinel2_band_2', 'sentinel2_band_4',\n",
       "       'sentinel2_band_9'],\n",
       "      dtype='object')"
      ]
     },
     "execution_count": 6,
     "metadata": {},
     "output_type": "execute_result"
    }
   ],
   "source": [
    "#check column names of dataset\n",
    "dataset.columns"
   ]
  },
  {
   "cell_type": "markdown",
   "metadata": {},
   "source": [
    "dataset.index[49]"
   ]
  },
  {
   "cell_type": "code",
   "execution_count": 29,
   "metadata": {},
   "outputs": [],
   "source": [
    "update_df = dataset.drop([dataset.index[49]])\n",
    " \n",
    "update_df\n",
    "\n",
    "update_df.to_csv(r'D:\\GIS\\ISDA\\Data\\cleandata1.csv')"
   ]
  },
  {
   "cell_type": "markdown",
   "metadata": {},
   "source": [
    "### Split to X and y "
   ]
  },
  {
   "cell_type": "code",
   "execution_count": 30,
   "metadata": {},
   "outputs": [],
   "source": [
    "#split data to X and y\n",
    "y = update_df[\"pH\"]\n",
    "X = update_df[[\"precipitation\",\"elevation\",\"landcover_cropland_precentage\",\"landcover_class\",\n",
    "             \"landsat8_nir\",\"landsat8_red\",\"landsat8_swir1\",\"landsat8_swir2\",\n",
    "             \"sentinel2_band_2\",\"sentinel2_band_4\",\"sentinel2_band_9\"]]"
   ]
  },
  {
   "cell_type": "markdown",
   "metadata": {},
   "source": [
    "### Split to train and test "
   ]
  },
  {
   "cell_type": "code",
   "execution_count": 31,
   "metadata": {},
   "outputs": [],
   "source": [
    "from sklearn.model_selection import train_test_split\n",
    "\n",
    "X_train, X_test, y_train, y_test = train_test_split(X, y, test_size = 0.3, random_state = 100)"
   ]
  },
  {
   "cell_type": "markdown",
   "metadata": {},
   "source": [
    "### Regression "
   ]
  },
  {
   "cell_type": "code",
   "execution_count": 32,
   "metadata": {},
   "outputs": [],
   "source": [
    "from sklearn.linear_model import LinearRegression\n"
   ]
  },
  {
   "cell_type": "code",
   "execution_count": 33,
   "metadata": {},
   "outputs": [
    {
     "data": {
      "text/plain": [
       "LinearRegression()"
      ]
     },
     "execution_count": 33,
     "metadata": {},
     "output_type": "execute_result"
    }
   ],
   "source": [
    "#Instatiate model\n",
    "\n",
    "LR = LinearRegression()\n",
    "\n",
    "# fit model\n",
    "\n",
    "LR.fit(X_train,y_train)"
   ]
  },
  {
   "cell_type": "code",
   "execution_count": 34,
   "metadata": {},
   "outputs": [
    {
     "data": {
      "text/plain": [
       "array([6.47792215, 6.21605303, 6.69975797, ..., 6.17871525, 6.15482392,\n",
       "       5.57453955])"
      ]
     },
     "execution_count": 34,
     "metadata": {},
     "output_type": "execute_result"
    }
   ],
   "source": [
    "#predict\n",
    "y_prediction =  LR.predict(X_test)\n",
    "y_prediction"
   ]
  },
  {
   "cell_type": "code",
   "execution_count": 35,
   "metadata": {},
   "outputs": [
    {
     "name": "stdout",
     "output_type": "stream",
     "text": [
      "Intercept:  -32.625859480230496\n",
      "Coefficients:\n"
     ]
    },
    {
     "data": {
      "text/plain": [
       "[('precipitation', 0.0025982377915829235),\n",
       " ('elevation', 0.00030697929049930113),\n",
       " ('landcover_cropland_precentage', 0.0007281140966274118),\n",
       " ('landcover_class', -0.07188971121560907),\n",
       " ('landsat8_nir', -0.003912598336851663),\n",
       " ('landsat8_red', -0.0021185510901762508),\n",
       " ('landsat8_swir1', -0.022755870811664303),\n",
       " ('landsat8_swir2', 0.022894253292731263),\n",
       " ('sentinel2_band_2', 0.05051885468858017),\n",
       " ('sentinel2_band_4', -0.023767651066078862),\n",
       " ('sentinel2_band_9', 5.5268503779698396e-12)]"
      ]
     },
     "execution_count": 35,
     "metadata": {},
     "output_type": "execute_result"
    }
   ],
   "source": [
    "print(\"Intercept: \", LR.intercept_)\n",
    "print(\"Coefficients:\")\n",
    "list(zip(X, LR.coef_))"
   ]
  },
  {
   "cell_type": "markdown",
   "metadata": {},
   "source": [
    "Regression equation :pH= -32.625859480230496 + (0.0026precipitation)+(0.000307elevation) + (0.000728andcover_cropland_precentage)+(-0.0719landcover_class)+(-0.003913landsat8_nir)+(-0.002119landsat8_red)+(-0.022756landsat8_swir1)+(0.022894landsat8_swir2)+(0.050519sentinel2_band_2)+(-0.023769sentinel2_band_4)+(5.526850e-12sentinel2_band_9) \n"
   ]
  },
  {
   "cell_type": "code",
   "execution_count": 36,
   "metadata": {},
   "outputs": [],
   "source": [
    "#Prediction of test set\n",
    "\n",
    "y_pred_mlr= LR.predict(X_test)"
   ]
  },
  {
   "cell_type": "code",
   "execution_count": 37,
   "metadata": {},
   "outputs": [
    {
     "name": "stdout",
     "output_type": "stream",
     "text": [
      "Prediction for test set: [6.47792215 6.21605303 6.69975797 ... 6.17871525 6.15482392 5.57453955]\n"
     ]
    }
   ],
   "source": [
    "print(\"Prediction for test set: {}\".format(y_pred_mlr))"
   ]
  },
  {
   "cell_type": "code",
   "execution_count": 38,
   "metadata": {},
   "outputs": [
    {
     "data": {
      "text/html": [
       "<div>\n",
       "<style scoped>\n",
       "    .dataframe tbody tr th:only-of-type {\n",
       "        vertical-align: middle;\n",
       "    }\n",
       "\n",
       "    .dataframe tbody tr th {\n",
       "        vertical-align: top;\n",
       "    }\n",
       "\n",
       "    .dataframe thead th {\n",
       "        text-align: right;\n",
       "    }\n",
       "</style>\n",
       "<table border=\"1\" class=\"dataframe\">\n",
       "  <thead>\n",
       "    <tr style=\"text-align: right;\">\n",
       "      <th></th>\n",
       "      <th>Actual value</th>\n",
       "      <th>Predicted value</th>\n",
       "    </tr>\n",
       "  </thead>\n",
       "  <tbody>\n",
       "    <tr>\n",
       "      <th>7189</th>\n",
       "      <td>6</td>\n",
       "      <td>6.477922</td>\n",
       "    </tr>\n",
       "    <tr>\n",
       "      <th>8740</th>\n",
       "      <td>6.3</td>\n",
       "      <td>6.216053</td>\n",
       "    </tr>\n",
       "    <tr>\n",
       "      <th>5797</th>\n",
       "      <td>3.9</td>\n",
       "      <td>6.699758</td>\n",
       "    </tr>\n",
       "    <tr>\n",
       "      <th>889</th>\n",
       "      <td>6.2</td>\n",
       "      <td>6.016875</td>\n",
       "    </tr>\n",
       "    <tr>\n",
       "      <th>8102</th>\n",
       "      <td>8.4</td>\n",
       "      <td>6.837299</td>\n",
       "    </tr>\n",
       "  </tbody>\n",
       "</table>\n",
       "</div>"
      ],
      "text/plain": [
       "     Actual value  Predicted value\n",
       "7189            6         6.477922\n",
       "8740          6.3         6.216053\n",
       "5797          3.9         6.699758\n",
       "889           6.2         6.016875\n",
       "8102          8.4         6.837299"
      ]
     },
     "execution_count": 38,
     "metadata": {},
     "output_type": "execute_result"
    }
   ],
   "source": [
    "mlr_diff = pd.DataFrame({'Actual value': y_test, 'Predicted value': y_pred_mlr})\n",
    "mlr_diff.head()"
   ]
  },
  {
   "cell_type": "markdown",
   "metadata": {},
   "source": [
    "### Accuracy assessment "
   ]
  },
  {
   "cell_type": "code",
   "execution_count": 39,
   "metadata": {},
   "outputs": [],
   "source": [
    "from sklearn.metrics import mean_squared_error"
   ]
  },
  {
   "cell_type": "code",
   "execution_count": 40,
   "metadata": {},
   "outputs": [
    {
     "name": "stdout",
     "output_type": "stream",
     "text": [
      "1.0334134821920342\n"
     ]
    }
   ],
   "source": [
    "# RMSE\n",
    "print(np.sqrt(mean_squared_error(y_test, y_pred_mlr)))"
   ]
  },
  {
   "cell_type": "markdown",
   "metadata": {},
   "source": [
    " RMSE of the model is 1.033413 "
   ]
  },
  {
   "cell_type": "code",
   "execution_count": 45,
   "metadata": {},
   "outputs": [],
   "source": [
    "from sklearn.metrics import r2_score"
   ]
  },
  {
   "cell_type": "code",
   "execution_count": 46,
   "metadata": {},
   "outputs": [
    {
     "name": "stdout",
     "output_type": "stream",
     "text": [
      "0.21667401453927193\n"
     ]
    }
   ],
   "source": [
    "#R2\n",
    "print(r2_score(y_test, y_pred_mlr))"
   ]
  },
  {
   "cell_type": "markdown",
   "metadata": {},
   "source": [
    "R2 is 21.67% indicating poor perfomance  "
   ]
  },
  {
   "cell_type": "code",
   "execution_count": null,
   "metadata": {},
   "outputs": [],
   "source": [
    "\n"
   ]
  },
  {
   "cell_type": "code",
   "execution_count": null,
   "metadata": {
    "scrolled": true
   },
   "outputs": [],
   "source": []
  },
  {
   "cell_type": "code",
   "execution_count": null,
   "metadata": {},
   "outputs": [],
   "source": []
  }
 ],
 "metadata": {
  "kernelspec": {
   "display_name": "Python 3",
   "language": "python",
   "name": "python3"
  },
  "language_info": {
   "codemirror_mode": {
    "name": "ipython",
    "version": 3
   },
   "file_extension": ".py",
   "mimetype": "text/x-python",
   "name": "python",
   "nbconvert_exporter": "python",
   "pygments_lexer": "ipython3",
   "version": "3.8.3"
  }
 },
 "nbformat": 4,
 "nbformat_minor": 4
}
